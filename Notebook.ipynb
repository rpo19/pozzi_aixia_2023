{
 "cells": [
  {
   "cell_type": "code",
   "execution_count": 1,
   "id": "9ae414ed-a25e-4ecf-8dff-ec0eb0143ace",
   "metadata": {},
   "outputs": [],
   "source": [
    "import requests\n",
    "from gatenlp import Document\n",
    "import numpy as np\n",
    "import base64"
   ]
  },
  {
   "cell_type": "code",
   "execution_count": 14,
   "id": "289bcfb2-3701-4238-b2ed-abc4178298c3",
   "metadata": {},
   "outputs": [],
   "source": [
    "'Smith has been charged with robbing a bank in London.'\n",
    "# in Italian\n",
    "text = 'Smith è stato accusato di aver rapinato una banca a Londra.'"
   ]
  },
  {
   "cell_type": "code",
   "execution_count": 15,
   "id": "cc852f29-f990-4df0-a9cd-3da26277b82e",
   "metadata": {},
   "outputs": [
    {
     "data": {
      "text/html": [
       "<div><style>#ZMHNOFVIYD-wrapper { color: black !important; }</style>\n",
       "<div id=\"ZMHNOFVIYD-wrapper\">\n",
       "\n",
       "<div>\n",
       "<style>\n",
       "#ZMHNOFVIYD-content {\n",
       "    width: 100%;\n",
       "    height: 100%;\n",
       "    font-family: -apple-system, BlinkMacSystemFont, 'Segoe UI', Roboto, Oxygen, Ubuntu, Cantarell, 'Open Sans', 'Helvetica Neue', sans-serif;\n",
       "}\n",
       "\n",
       ".ZMHNOFVIYD-row {\n",
       "    width: 100%;\n",
       "    display: flex;\n",
       "    flex-direction: row;\n",
       "    flex-wrap: nowrap;\n",
       "}\n",
       "\n",
       ".ZMHNOFVIYD-col {\n",
       "    border: 1px solid grey;\n",
       "    display: inline-block;\n",
       "    min-width: 200px;\n",
       "    padding: 5px;\n",
       "    /* white-space: normal; */\n",
       "    /* white-space: pre-wrap; */\n",
       "    overflow-y: auto;\n",
       "}\n",
       "\n",
       ".ZMHNOFVIYD-hdr {\n",
       "    font-size: 1.2rem;\n",
       "    font-weight: bold;\n",
       "}\n",
       "\n",
       ".ZMHNOFVIYD-label {\n",
       "    margin-bottom: -15px;\n",
       "    display: block;\n",
       "}\n",
       "\n",
       ".ZMHNOFVIYD-input {\n",
       "    vertical-align: middle;\n",
       "    position: relative;\n",
       "    *overflow: hidden;\n",
       "}\n",
       "\n",
       "#ZMHNOFVIYD-popup {\n",
       "    display: none;\n",
       "    color: black;\n",
       "    position: absolute;\n",
       "    margin-top: 10%;\n",
       "    margin-left: 10%;\n",
       "    background: #aaaaaa;\n",
       "    width: 60%;\n",
       "    height: 60%;\n",
       "    z-index: 50;\n",
       "    padding: 25px 25px 25px;\n",
       "    border: 1px solid black;\n",
       "    overflow: auto;\n",
       "}\n",
       "\n",
       ".ZMHNOFVIYD-selection {\n",
       "    margin-bottom: 5px;\n",
       "}\n",
       "\n",
       ".ZMHNOFVIYD-featuretable {\n",
       "    margin-top: 10px;\n",
       "}\n",
       "\n",
       ".ZMHNOFVIYD-fname {\n",
       "    text-align: left !important;\n",
       "    font-weight: bold;\n",
       "    margin-right: 10px;\n",
       "}\n",
       ".ZMHNOFVIYD-fvalue {\n",
       "    text-align: left !important;\n",
       "}\n",
       "</style>\n",
       "  <div id=\"ZMHNOFVIYD-content\">\n",
       "        <div id=\"ZMHNOFVIYD-popup\" style=\"display: none;\">\n",
       "        </div>\n",
       "        <div class=\"ZMHNOFVIYD-row\" id=\"ZMHNOFVIYD-row1\" style=\"min-height:5em;max-height:20em; min-height:5em;\">\n",
       "            <div id=\"ZMHNOFVIYD-text-wrapper\" class=\"ZMHNOFVIYD-col\" style=\"width:70%;\">\n",
       "                <div class=\"ZMHNOFVIYD-hdr\" id=\"ZMHNOFVIYD-dochdr\"></div>\n",
       "                <div id=\"ZMHNOFVIYD-text\" style=\"\">\n",
       "                </div>\n",
       "            </div>\n",
       "            <div id=\"ZMHNOFVIYD-chooser\" class=\"ZMHNOFVIYD-col\" style=\"width:30%; border-left-width: 0px;\"></div>\n",
       "        </div>\n",
       "        <div class=\"ZMHNOFVIYD-row\" id=\"ZMHNOFVIYD-row2\" style=\"min-height:3em;max-height:14em; min-height: 3em;\">\n",
       "            <div id=\"ZMHNOFVIYD-details\" class=\"ZMHNOFVIYD-col\" style=\"width:100%; border-top-width: 0px;\">\n",
       "            </div>\n",
       "        </div>\n",
       "    </div>\n",
       "    \n",
       "    <script type=\"text/javascript\">\n",
       "    let ZMHNOFVIYD_data = {\"annotation_sets\": {}, \"text\": \"Smith \\u00e8 stato accusato di aver rapinato una banca a Londra.\", \"features\": {}, \"offset_type\": \"j\", \"name\": \"\"} ; \n",
       "    let ZMHNOFVIYD_parms = {\"presel_set\": [], \"presel_list\": [], \"cols4types\": {}} ;\n",
       "    new gatenlpDocView(new gatenlpDocRep(ZMHNOFVIYD_data, ZMHNOFVIYD_parms), \"ZMHNOFVIYD-\").init();\n",
       "    </script>\n",
       "  </div>\n",
       "\n",
       "</div></div>"
      ],
      "text/plain": [
       "Document(Smith è stato accusato di aver rapinato una banca a Londra.,features=Features({}),anns={})"
      ]
     },
     "execution_count": 15,
     "metadata": {},
     "output_type": "execute_result"
    }
   ],
   "source": [
    "doc = Document(text)\n",
    "doc"
   ]
  },
  {
   "cell_type": "code",
   "execution_count": 16,
   "id": "f978a24a-a177-4504-a777-fd30b714e1e9",
   "metadata": {},
   "outputs": [],
   "source": [
    "# NER\n",
    "res = requests.post('http://localhost:9000/api/spacyner', json=doc.to_dict())\n",
    "assert res.ok"
   ]
  },
  {
   "cell_type": "code",
   "execution_count": 17,
   "id": "6376e029-e0ab-4199-a1f2-3c4e604d02b7",
   "metadata": {},
   "outputs": [
    {
     "data": {
      "text/html": [
       "<div><style>#YECWGLPGCG-wrapper { color: black !important; }</style>\n",
       "<div id=\"YECWGLPGCG-wrapper\">\n",
       "\n",
       "<div>\n",
       "<style>\n",
       "#YECWGLPGCG-content {\n",
       "    width: 100%;\n",
       "    height: 100%;\n",
       "    font-family: -apple-system, BlinkMacSystemFont, 'Segoe UI', Roboto, Oxygen, Ubuntu, Cantarell, 'Open Sans', 'Helvetica Neue', sans-serif;\n",
       "}\n",
       "\n",
       ".YECWGLPGCG-row {\n",
       "    width: 100%;\n",
       "    display: flex;\n",
       "    flex-direction: row;\n",
       "    flex-wrap: nowrap;\n",
       "}\n",
       "\n",
       ".YECWGLPGCG-col {\n",
       "    border: 1px solid grey;\n",
       "    display: inline-block;\n",
       "    min-width: 200px;\n",
       "    padding: 5px;\n",
       "    /* white-space: normal; */\n",
       "    /* white-space: pre-wrap; */\n",
       "    overflow-y: auto;\n",
       "}\n",
       "\n",
       ".YECWGLPGCG-hdr {\n",
       "    font-size: 1.2rem;\n",
       "    font-weight: bold;\n",
       "}\n",
       "\n",
       ".YECWGLPGCG-label {\n",
       "    margin-bottom: -15px;\n",
       "    display: block;\n",
       "}\n",
       "\n",
       ".YECWGLPGCG-input {\n",
       "    vertical-align: middle;\n",
       "    position: relative;\n",
       "    *overflow: hidden;\n",
       "}\n",
       "\n",
       "#YECWGLPGCG-popup {\n",
       "    display: none;\n",
       "    color: black;\n",
       "    position: absolute;\n",
       "    margin-top: 10%;\n",
       "    margin-left: 10%;\n",
       "    background: #aaaaaa;\n",
       "    width: 60%;\n",
       "    height: 60%;\n",
       "    z-index: 50;\n",
       "    padding: 25px 25px 25px;\n",
       "    border: 1px solid black;\n",
       "    overflow: auto;\n",
       "}\n",
       "\n",
       ".YECWGLPGCG-selection {\n",
       "    margin-bottom: 5px;\n",
       "}\n",
       "\n",
       ".YECWGLPGCG-featuretable {\n",
       "    margin-top: 10px;\n",
       "}\n",
       "\n",
       ".YECWGLPGCG-fname {\n",
       "    text-align: left !important;\n",
       "    font-weight: bold;\n",
       "    margin-right: 10px;\n",
       "}\n",
       ".YECWGLPGCG-fvalue {\n",
       "    text-align: left !important;\n",
       "}\n",
       "</style>\n",
       "  <div id=\"YECWGLPGCG-content\">\n",
       "        <div id=\"YECWGLPGCG-popup\" style=\"display: none;\">\n",
       "        </div>\n",
       "        <div class=\"YECWGLPGCG-row\" id=\"YECWGLPGCG-row1\" style=\"min-height:5em;max-height:20em; min-height:5em;\">\n",
       "            <div id=\"YECWGLPGCG-text-wrapper\" class=\"YECWGLPGCG-col\" style=\"width:70%;\">\n",
       "                <div class=\"YECWGLPGCG-hdr\" id=\"YECWGLPGCG-dochdr\"></div>\n",
       "                <div id=\"YECWGLPGCG-text\" style=\"\">\n",
       "                </div>\n",
       "            </div>\n",
       "            <div id=\"YECWGLPGCG-chooser\" class=\"YECWGLPGCG-col\" style=\"width:30%; border-left-width: 0px;\"></div>\n",
       "        </div>\n",
       "        <div class=\"YECWGLPGCG-row\" id=\"YECWGLPGCG-row2\" style=\"min-height:3em;max-height:14em; min-height: 3em;\">\n",
       "            <div id=\"YECWGLPGCG-details\" class=\"YECWGLPGCG-col\" style=\"width:100%; border-top-width: 0px;\">\n",
       "            </div>\n",
       "        </div>\n",
       "    </div>\n",
       "    \n",
       "    <script type=\"text/javascript\">\n",
       "    let YECWGLPGCG_data = {\"annotation_sets\": {\"entities_spacy_v0.1.0\": {\"name\": \"detached-from:entities_spacy_v0.1.0\", \"annotations\": [{\"type\": \"PER\", \"start\": 0, \"end\": 5, \"id\": 0, \"features\": {\"ner\": {\"type\": \"PER\", \"score\": 1.0, \"source\": \"spacy\", \"spacy_model\": \"it_core_news_sm\"}}}, {\"type\": \"LOC\", \"start\": 52, \"end\": 58, \"id\": 1, \"features\": {\"ner\": {\"type\": \"LOC\", \"score\": 1.0, \"source\": \"spacy\", \"spacy_model\": \"it_core_news_sm\"}}}], \"next_annid\": 2}}, \"text\": \"Smith \\u00e8 stato accusato di aver rapinato una banca a Londra.\", \"features\": {\"pipeline\": [\"spacyner\"]}, \"offset_type\": \"j\", \"name\": \"\"} ; \n",
       "    let YECWGLPGCG_parms = {\"presel_set\": [], \"presel_list\": [], \"cols4types\": {}} ;\n",
       "    new gatenlpDocView(new gatenlpDocRep(YECWGLPGCG_data, YECWGLPGCG_parms), \"YECWGLPGCG-\").init();\n",
       "    </script>\n",
       "  </div>\n",
       "\n",
       "</div></div>"
      ],
      "text/plain": [
       "Document(Smith è stato accusato di aver rapinato una banca a Londra.,features=Features({'pipeline': ['spacyner']}),anns={'entities_spacy_v0.1.0': AnnotationSet([Annotation(0,5,PER,features=Features({'ner': {'type': 'PER', 'score': 1.0, 'source': 'spacy', 'spacy_model': 'it_core_news_sm'}}),id=0), Annotation(52,58,LOC,features=Features({'ner': {'type': 'LOC', 'score': 1.0, 'source': 'spacy', 'spacy_model': 'it_core_news_sm'}}),id=1)])})"
      ]
     },
     "execution_count": 17,
     "metadata": {},
     "output_type": "execute_result"
    }
   ],
   "source": [
    "# tick the types to highlight the mentions in the text\n",
    "doc = Document.from_dict(res.json())\n",
    "doc"
   ]
  },
  {
   "cell_type": "code",
   "execution_count": 18,
   "id": "96d0106b-8e03-4ac8-8255-ba242c5b26a0",
   "metadata": {},
   "outputs": [],
   "source": [
    "# NEL - biencoder\n",
    "res = requests.post('http://localhost:9001/api/blink/biencoder/mention/doc', json=doc.to_dict())\n",
    "assert res.ok"
   ]
  },
  {
   "cell_type": "code",
   "execution_count": 19,
   "id": "93667a1a-12f2-4160-b8f1-a5ce28f71858",
   "metadata": {},
   "outputs": [
    {
     "name": "stdout",
     "output_type": "stream",
     "text": [
      "base64 encoding: T+4evsELQb5tMMM+lxipPHklz74QjE++vyuKvgwSjTxHVNu+wlelPtGTCb51YBK/c2apvfXqJz4wFPS+zW1XP+kQu70EJjy/dR9w\n",
      "vector: [-0.15520595 -0.1885214   0.38122883  0.02064161 -0.40458277 -0.20268273\n",
      " -0.269865    0.01722052 -0.42837736  0.32293516 -0.13435294 -0.5717843\n",
      " -0.08271494  0.16398223 -0.47671652  0.8415192  -0.09134085 -0.7349551\n",
      " -0.234495    0.00331359]\n"
     ]
    }
   ],
   "source": [
    "# the mention is embedded into a vector (encoded in base64)\n",
    "def vector_decode(s, dtype=np.float32):\n",
    "    buffer = base64.b64decode(s)\n",
    "    v = np.frombuffer(buffer, dtype=dtype)\n",
    "    return v\n",
    "\n",
    "doc = Document.from_dict(res.json())\n",
    "annset = doc.annset('entities_spacy_v0.1.0')\n",
    "for annotation in annset:\n",
    "    encoding = annotation.features['linking']['encoding']\n",
    "    break\n",
    "\n",
    "print('base64 encoding:', encoding[:100])\n",
    "print('vector:', vector_decode(encoding)[:20])"
   ]
  },
  {
   "cell_type": "code",
   "execution_count": 20,
   "id": "ac4cff3f-3f21-497f-b950-192e9f48d04b",
   "metadata": {},
   "outputs": [],
   "source": [
    "# NEL - indexer for dense retrieval\n",
    "res = requests.post('http://localhost:9002/api/indexer/search/doc', json=doc.to_dict())\n",
    "assert res.ok"
   ]
  },
  {
   "cell_type": "code",
   "execution_count": 21,
   "id": "8c14cad4-88b6-4507-866e-b405d6af92ec",
   "metadata": {},
   "outputs": [
    {
     "name": "stdout",
     "output_type": "stream",
     "text": [
      "Smith --> Norman Smith https://it.wikipedia.org/wiki?curid=1048312\n",
      "Londra --> Londra https://it.wikipedia.org/wiki?curid=2279266\n"
     ]
    }
   ],
   "source": [
    "doc = Document.from_dict(res.json())\n",
    "annset = doc.annset('entities_spacy_v0.1.0')\n",
    "for annotation in annset:\n",
    "    mention = doc.text[annotation.start:annotation.end]\n",
    "    print(mention, '-->', annotation.features['linking']['top_candidate']['title'], annotation.features['linking']['top_candidate']['url'])"
   ]
  },
  {
   "cell_type": "code",
   "execution_count": 22,
   "id": "b9ca8630-7335-4aa8-a12a-d28e0f52e6e5",
   "metadata": {},
   "outputs": [],
   "source": [
    "# NIL prediction\n",
    "res = requests.post('http://localhost:9003/api/nilprediction/doc', json=doc.to_dict())\n",
    "assert res.ok"
   ]
  },
  {
   "cell_type": "code",
   "execution_count": 28,
   "id": "7351092c-048e-4f54-8bde-c31329f6d9a6",
   "metadata": {},
   "outputs": [
    {
     "name": "stdout",
     "output_type": "stream",
     "text": [
      "0.3406641822630679\n",
      "Smith --> NIL. score = 0.3406641822630679 (NIL=0 <--> 1=not-NIL)\n",
      "0.7235149579419616\n",
      "Londra --> Londra https://it.wikipedia.org/wiki?curid=2279266\n"
     ]
    }
   ],
   "source": [
    "doc = Document.from_dict(res.json())\n",
    "annset = doc.annset('entities_spacy_v0.1.0')\n",
    "for annotation in annset:\n",
    "    mention = doc.text[annotation.start:annotation.end]\n",
    "    is_nil = annotation.features['linking']['is_nil']\n",
    "    nil_score = annotation.features['linking']['nil_score']\n",
    "    print(nil_score)\n",
    "    if is_nil:\n",
    "        print(mention, '--> NIL.', 'score =', nil_score, '(NIL=0 <--> 1=not-NIL)')\n",
    "    else:\n",
    "        print(mention, '-->', annotation.features['linking']['top_candidate']['title'], annotation.features['linking']['top_candidate']['url'])"
   ]
  }
 ],
 "metadata": {
  "kernelspec": {
   "display_name": "Python 3 (ipykernel)",
   "language": "python",
   "name": "python3"
  },
  "language_info": {
   "codemirror_mode": {
    "name": "ipython",
    "version": 3
   },
   "file_extension": ".py",
   "mimetype": "text/x-python",
   "name": "python",
   "nbconvert_exporter": "python",
   "pygments_lexer": "ipython3",
   "version": "3.8.10"
  }
 },
 "nbformat": 4,
 "nbformat_minor": 5
}
